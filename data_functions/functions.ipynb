{
 "cells": [
  {
   "cell_type": "code",
   "execution_count": 1,
   "metadata": {},
   "outputs": [
    {
     "data": {
      "text/plain": [
       "'1.25.0'"
      ]
     },
     "execution_count": 1,
     "metadata": {},
     "output_type": "execute_result"
    }
   ],
   "source": [
    "import numpy as np\n",
    "from itertools import combinations\n",
    "from itertools import product\n",
    "np.__version__"
   ]
  },
  {
   "cell_type": "code",
   "execution_count": 2,
   "metadata": {},
   "outputs": [
    {
     "name": "stdout",
     "output_type": "stream",
     "text": [
      "(0, [''])\n",
      "(1, ['r'])\n",
      "(2, ['c'])\n",
      "(3, ['l'])\n",
      "(4, ['r', 'c'])\n",
      "(5, ['r', 'l'])\n"
     ]
    }
   ],
   "source": [
    "valid_combos = [[''],\n",
    "                ['r'],\n",
    "                ['c'],\n",
    "                ['l'],\n",
    "                ['r','c'],\n",
    "                ['r','l']]\n",
    "\n",
    "\n",
    "for e in enumerate(valid_combos):\n",
    "    print(e)\n"
   ]
  },
  {
   "cell_type": "code",
   "execution_count": 3,
   "metadata": {},
   "outputs": [],
   "source": [
    "def gen_RCL_matrix(i, n=4, r_min=1, r_max=10000, l_min=1, l_max=10000, c_min=1, c_max=10000):\n",
    "    '''\n",
    "    compont matrix [n x n x 3]\n",
    "    permute all combinations of n elements in the graph\n",
    "      for all rlc\n",
    "          all >= 0\n",
    "          l and c can be both non negative on the same edge\n",
    "\n",
    "    if no r\n",
    "        r = inf\n",
    "    if no c\n",
    "        c = 0\n",
    "    if no l\n",
    "        l= inf\n",
    "    \n",
    "    '''\n",
    "\n",
    "    '''\n",
    "    (0, [''])\n",
    "    (1, ['r'])\n",
    "    (2, ['c'])\n",
    "    (3, ['l'])\n",
    "    (4, ['r', 'c'])\n",
    "    (5, ['r', 'l'])\n",
    "    '''\n",
    "    products = product(range(6),repeat=6)\n",
    "\n",
    "    dim = int(n*(n-1)/2)  # Number of elements in the array\n",
    "    RCL_arr = np.zeros((dim, 3))\n",
    "\n",
    "    open_circuit = np.array([np.inf,0,np.inf])\n",
    "    r_open = np.inf\n",
    "    c_open = 0.0\n",
    "    l_open = np.inf\n",
    "    \n",
    "    arr = list(list(products)[i])\n",
    "    for i,components in enumerate(arr):\n",
    "        if components == 0:\n",
    "            RCL_arr[i,:] = open_circuit\n",
    "        elif components == 1:\n",
    "            vals = np.array([np.random.uniform(r_min,r_max), c_open, l_open])\n",
    "            #print(vals.shape)\n",
    "            RCL_arr[i,:] = vals\n",
    "        elif components == 2:\n",
    "            vals = np.array([r_open, np.random.uniform(c_min,c_max), l_open])\n",
    "            #print(vals.shape)\n",
    "            RCL_arr[i,:] = vals\n",
    "        elif components == 3:\n",
    "            vals = np.array([r_open, c_open, np.random.uniform()])\n",
    "            RCL_arr[i,:] = vals\n",
    "        elif components == 4:\n",
    "            vals = np.array([np.random.uniform(r_min,r_max), np.random.uniform(c_min,c_max), l_open])\n",
    "            RCL_arr[i,:] = vals\n",
    "        elif components == 5:\n",
    "            vals = np.array([np.random.uniform(r_min,r_max), c_open, np.random.uniform(l_min,l_max)])\n",
    "            RCL_arr[i,:] = vals\n",
    "\n",
    "    return RCL_arr"
   ]
  },
  {
   "cell_type": "code",
   "execution_count": 4,
   "metadata": {},
   "outputs": [],
   "source": [
    "np.random.seed(42)"
   ]
  },
  {
   "cell_type": "code",
   "execution_count": 5,
   "metadata": {},
   "outputs": [
    {
     "name": "stdout",
     "output_type": "stream",
     "text": [
      "[[          inf    0.                   inf]\n",
      " [          inf    0.                   inf]\n",
      " [          inf    0.                   inf]\n",
      " [          inf    0.                   inf]\n",
      " [          inf    0.                   inf]\n",
      " [          inf 3746.02664835           inf]]\n"
     ]
    }
   ],
   "source": [
    "n = 4 \n",
    "\n",
    "r_min = 1\n",
    "r_max = 10000\n",
    "\n",
    "l_min = 1\n",
    "l_max = 10000\n",
    "\n",
    "c_min = 1\n",
    "c_max = 10000\n",
    "\n",
    "result_arrays = gen_RCL_matrix(i=2)\n",
    "\n",
    "print(result_arrays)"
   ]
  }
 ],
 "metadata": {
  "kernelspec": {
   "display_name": "jnb",
   "language": "python",
   "name": "python3"
  },
  "language_info": {
   "codemirror_mode": {
    "name": "ipython",
    "version": 3
   },
   "file_extension": ".py",
   "mimetype": "text/x-python",
   "name": "python",
   "nbconvert_exporter": "python",
   "pygments_lexer": "ipython3",
   "version": "3.11.3"
  },
  "orig_nbformat": 4
 },
 "nbformat": 4,
 "nbformat_minor": 2
}
