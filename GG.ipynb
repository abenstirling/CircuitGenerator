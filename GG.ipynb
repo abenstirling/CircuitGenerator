{
  "nbformat": 4,
  "nbformat_minor": 0,
  "metadata": {
    "colab": {
      "provenance": [],
      "gpuType": "V100",
      "machine_shape": "hm",
      "authorship_tag": "ABX9TyO6tf6Fe2sAVkENDMiSAKVu",
      "include_colab_link": true
    },
    "kernelspec": {
      "name": "python3",
      "display_name": "Python 3"
    },
    "language_info": {
      "name": "python"
    },
    "accelerator": "GPU"
  },
  "cells": [
    {
      "cell_type": "markdown",
      "metadata": {
        "id": "view-in-github",
        "colab_type": "text"
      },
      "source": [
        "<a href=\"https://colab.research.google.com/github/abenstirling/sdxai_hackathon/blob/main/GG.ipynb\" target=\"_parent\"><img src=\"https://colab.research.google.com/assets/colab-badge.svg\" alt=\"Open In Colab\"/></a>"
      ]
    },
    {
      "cell_type": "code",
      "execution_count": 1,
      "metadata": {
        "colab": {
          "base_uri": "https://localhost:8080/",
          "height": 35
        },
        "id": "Q_uAwiXdvnPy",
        "outputId": "fa750731-8e83-48e3-abf3-e32b9afe63c1"
      },
      "outputs": [
        {
          "output_type": "execute_result",
          "data": {
            "text/plain": [
              "'2.0.1+cu118'"
            ],
            "application/vnd.google.colaboratory.intrinsic+json": {
              "type": "string"
            }
          },
          "metadata": {},
          "execution_count": 1
        }
      ],
      "source": [
        "import torch\n",
        "from torch import nn\n",
        "import numpy as np\n",
        "import matplotlib.pyplot as plt\n",
        "import requests\n",
        "import os\n",
        "import pickle\n",
        "from sklearn.model_selection import train_test_split\n",
        "from torch.utils.data import DataLoader, TensorDataset\n",
        "\n",
        "torch.__version__"
      ]
    },
    {
      "cell_type": "code",
      "source": [
        "device = \"cuda\" if torch.cuda.is_available() else \"cpu\"\n",
        "device"
      ],
      "metadata": {
        "id": "AR0vXWdnyEvT",
        "colab": {
          "base_uri": "https://localhost:8080/",
          "height": 35
        },
        "outputId": "5a9d81d7-2e9d-4c5d-90b6-49b191f29ec9"
      },
      "execution_count": 2,
      "outputs": [
        {
          "output_type": "execute_result",
          "data": {
            "text/plain": [
              "'cuda'"
            ],
            "application/vnd.google.colaboratory.intrinsic+json": {
              "type": "string"
            }
          },
          "metadata": {},
          "execution_count": 2
        }
      ]
    },
    {
      "cell_type": "code",
      "source": [
        "!rm -rf sdxai_hackathon\n",
        "!git clone \"https://github.com/abenstirling/sdxai_hackathon.git\""
      ],
      "metadata": {
        "colab": {
          "base_uri": "https://localhost:8080/"
        },
        "id": "fjfiGeQZ-teX",
        "outputId": "447155a0-765b-4ddd-ee77-fcb1a40c1eb3"
      },
      "execution_count": 3,
      "outputs": [
        {
          "output_type": "stream",
          "name": "stdout",
          "text": [
            "Cloning into 'sdxai_hackathon'...\n",
            "remote: Enumerating objects: 17754, done.\u001b[K\n",
            "remote: Counting objects: 100% (4480/4480), done.\u001b[K\n",
            "remote: Compressing objects: 100% (2134/2134), done.\u001b[K\n",
            "remote: Total 17754 (delta 2377), reused 4441 (delta 2346), pack-reused 13274\u001b[K\n",
            "Receiving objects: 100% (17754/17754), 57.24 MiB | 23.24 MiB/s, done.\n",
            "Resolving deltas: 100% (9188/9188), done.\n"
          ]
        }
      ]
    },
    {
      "cell_type": "code",
      "source": [
        "!cd sdxai_hackathon; git pull"
      ],
      "metadata": {
        "colab": {
          "base_uri": "https://localhost:8080/"
        },
        "id": "nCy2Rf-RO3fx",
        "outputId": "d6f6223f-981c-4eb1-9f0c-b81ae8287088"
      },
      "execution_count": 4,
      "outputs": [
        {
          "output_type": "stream",
          "name": "stdout",
          "text": [
            "Already up to date.\n"
          ]
        }
      ]
    },
    {
      "cell_type": "code",
      "source": [
        "## get data into the model (serial)\n",
        "\n",
        "\n",
        "n_samples = 1024\n",
        "\n",
        "X = np.empty((0,n_samples))\n",
        "y = np.empty((0,3,3,2))\n",
        "\n",
        "folder_path = '/Xy'\n",
        "files = os.listdir('sdxai_hackathon/Xy')\n",
        "num_files = len(files)\n",
        "print(f\"Num files: {num_files}\")\n",
        "\n",
        "for i in range(2000):\n",
        "  fX = f'sdxai_hackathon/Xy/{i}X.pkl'\n",
        "  fy = f'sdxai_hackathon/Xy/{i}y.pkl'\n",
        "  if os.path.exists(fX) and os.path.exists(fy):\n",
        "\n",
        "    with open(fy,'rb') as f:\n",
        "      RCL = np.array(pickle.load(f))\n",
        "      RCL = np.reshape(RCL, (1,3,3,2))\n",
        "      # print(RCL.shape)\n",
        "      # print(y.shape)\n",
        "      y = np.append(y, RCL, axis=0)\n",
        "    with open(fX,'rb') as f:\n",
        "      samples = np.array(pickle.load(f))\n",
        "      samples = np.reshape(samples, (1, n_samples))\n",
        "      X = np.append(X, samples, axis=0)\n",
        "\n",
        "print(X[0])\n",
        "print(y[0])\n",
        "\n",
        "print(X.shape)\n",
        "\n"
      ],
      "metadata": {
        "id": "B0liG_wexn6A",
        "colab": {
          "base_uri": "https://localhost:8080/"
        },
        "outputId": "39948e5b-f922-433a-be61-8e3cb3dcfa26"
      },
      "execution_count": 5,
      "outputs": [
        {
          "output_type": "stream",
          "name": "stdout",
          "text": [
            "Num files: 2298\n",
            "[0.         0.68661337 0.68614857 ... 0.52397518 0.52394481 0.52391452]\n",
            "[[[-0.          0.5       ]\n",
            "  [ 0.75683008  0.05653292]\n",
            "  [ 0.89169654  0.05600491]]\n",
            "\n",
            " [[-0.          0.5       ]\n",
            "  [-0.          0.5       ]\n",
            "  [ 0.77784866  0.21698487]]\n",
            "\n",
            " [[-0.          0.5       ]\n",
            "  [-0.          0.5       ]\n",
            "  [-0.          0.5       ]]]\n",
            "(1149, 1024)\n"
          ]
        }
      ]
    },
    {
      "cell_type": "code",
      "source": [
        "X = torch.tensor(X,dtype=torch.float)\n",
        "y = torch.tensor(y,dtype=torch.float)\n",
        "print(X.dtype,y.dtype)\n",
        "\n",
        "X = torch.unsqueeze(X,dim=1)\n",
        "print(X.shape,y.shape)\n",
        "\n",
        "X_train, X_test, y_train, y_test = train_test_split(X,\n",
        "                                                    y,\n",
        "                                                    test_size=0.2,\n",
        "                                                    random_state=42)\n"
      ],
      "metadata": {
        "colab": {
          "base_uri": "https://localhost:8080/"
        },
        "id": "-OHHMoFORcdq",
        "outputId": "246d3d67-6d44-4201-a3f2-740120cbef8b"
      },
      "execution_count": 6,
      "outputs": [
        {
          "output_type": "stream",
          "name": "stdout",
          "text": [
            "torch.float32 torch.float32\n",
            "torch.Size([1149, 1, 1024]) torch.Size([1149, 3, 3, 2])\n"
          ]
        }
      ]
    },
    {
      "cell_type": "code",
      "source": [
        "len(X_train), len(X_test)"
      ],
      "metadata": {
        "colab": {
          "base_uri": "https://localhost:8080/"
        },
        "id": "PodZ-lRBQmxe",
        "outputId": "eb8baa36-819f-476a-ccd8-819d26794e39"
      },
      "execution_count": 7,
      "outputs": [
        {
          "output_type": "execute_result",
          "data": {
            "text/plain": [
              "(919, 230)"
            ]
          },
          "metadata": {},
          "execution_count": 7
        }
      ]
    },
    {
      "cell_type": "code",
      "source": [
        "len(y_train), len(y_test)"
      ],
      "metadata": {
        "colab": {
          "base_uri": "https://localhost:8080/"
        },
        "id": "k2htJswNQtFZ",
        "outputId": "f225a8a2-e278-4762-d2fa-9076b33109c9"
      },
      "execution_count": 8,
      "outputs": [
        {
          "output_type": "execute_result",
          "data": {
            "text/plain": [
              "(919, 230)"
            ]
          },
          "metadata": {},
          "execution_count": 8
        }
      ]
    },
    {
      "cell_type": "code",
      "source": [
        "X_train[0]"
      ],
      "metadata": {
        "colab": {
          "base_uri": "https://localhost:8080/"
        },
        "id": "r4n5ivraeFPt",
        "outputId": "70871116-0b2a-473d-c14c-b00c9a0a2cfc"
      },
      "execution_count": 9,
      "outputs": [
        {
          "output_type": "execute_result",
          "data": {
            "text/plain": [
              "tensor([[0.0000, 0.0013, 0.0038,  ..., 0.9248, 0.9250, 0.9252]])"
            ]
          },
          "metadata": {},
          "execution_count": 9
        }
      ]
    },
    {
      "cell_type": "code",
      "source": [
        "y_train[0]\n",
        "plt.hist(y_train[:,:,0,0].cpu(), label=\"real\")\n",
        "\n",
        "print(y_train.shape)\n",
        "\n"
      ],
      "metadata": {
        "colab": {
          "base_uri": "https://localhost:8080/",
          "height": 448
        },
        "id": "RcuD8mFkeTfS",
        "outputId": "dab738fe-27f5-4f24-ad2e-fb2995c57e16"
      },
      "execution_count": 10,
      "outputs": [
        {
          "output_type": "stream",
          "name": "stdout",
          "text": [
            "torch.Size([919, 3, 3, 2])\n"
          ]
        },
        {
          "output_type": "display_data",
          "data": {
            "text/plain": [
              "<Figure size 640x480 with 1 Axes>"
            ],
            "image/png": "[encoded data removed]"
          },
          "metadata": {}
        }
      ]
    },
    {
      "cell_type": "code",
      "source": [
        "class MyModel(nn.Module):\n",
        "    def __init__(self, n, sample_dim, c1_dim, c2_dim, c3_dim, hidden_size, num_layers, output_size):\n",
        "        super(MyModel, self).__init__()\n",
        "\n",
        "        self.conv1 = nn.Conv1d(in_channels=1, out_channels=c1_dim, kernel_size=3, padding=1)\n",
        "        self.conv2 = nn.Conv1d(in_channels=c1_dim, out_channels=c2_dim, kernel_size=5, padding=2)\n",
        "        self.conv3 = nn.Conv1d(in_channels=c2_dim, out_channels=c3_dim, kernel_size=9, padding=4)\n",
        "        self.rnn = nn.RNN(input_size=c3_dim * sample_dim, hidden_size=hidden_size, num_layers=num_layers, batch_first=True)\n",
        "        self.fc1 = nn.Linear(hidden_size, 64)\n",
        "        self.fc2 = nn.Linear(64, 64)\n",
        "        self.fc3 = nn.Linear(64, n*n*2)\n",
        "\n",
        "        self.relu = nn.ReLU()\n",
        "        self.softmax = nn.Softmax(dim=-1)\n",
        "\n",
        "        self.norm1 = nn.BatchNorm1d(num_features=c1_dim)\n",
        "        self.norm2 = nn.BatchNorm1d(num_features=c2_dim)\n",
        "        self.norm3 = nn.BatchNorm1d(num_features=c3_dim)\n",
        "\n",
        "    def forward(self, x):\n",
        "        x = self.relu(self.conv1(x))\n",
        "        x = self.norm1(x)\n",
        "        x = self.relu(self.conv2(x))\n",
        "        x = self.norm2(x)\n",
        "        x = self.relu(self.conv3(x))\n",
        "        x = self.norm3(x)\n",
        "\n",
        "        x = x.view(x.size(0), -1)\n",
        "\n",
        "        output, _ = self.rnn(x)\n",
        "        output = output[:, -1]\n",
        "\n",
        "        output = self.relu(self.fc1(output))\n",
        "        output = self.relu(self.fc2(output))\n",
        "        output = self.softmax(self.fc3(output))\n",
        "\n",
        "        return output.view(output.size(0), n, n, 2)\n",
        "\n",
        "n = 4\n",
        "sample_dim = 1024\n",
        "c1_dim = 64\n",
        "c2_dim = 128\n",
        "c3_dim = 128\n",
        "hidden_size = 64\n",
        "num_layers = 1\n",
        "output_size = (n*n*2)\n",
        "\n",
        "model_1 = MyModel(n, sample_dim, c1_dim, c2_dim, c3_dim, hidden_size, num_layers, output_size).to(device)"
      ],
      "metadata": {
        "id": "nXfMLv4iLN4y"
      },
      "execution_count": 11,
      "outputs": []
    },
    {
      "cell_type": "code",
      "source": [
        "class GG(nn.Module):\n",
        "  def __init__(self, n, sample_dim, c1_dim, c2_dim, c3_dim):\n",
        "    super().__init__()\n",
        "\n",
        "    self.C_1 = nn.Conv1d(in_channels=1,\n",
        "                    out_channels=c1_dim,\n",
        "                    kernel_size=3,\n",
        "                    padding=1)\n",
        "    self.C_2 = nn.Conv1d(in_channels=c1_dim,\n",
        "                    out_channels=c2_dim,\n",
        "                    kernel_size=3,\n",
        "                    padding=1)\n",
        "    self.C_3 = nn.Conv1d(in_channels=c2_dim,\n",
        "                    out_channels=c3_dim,\n",
        "                    kernel_size=3,\n",
        "                    padding=1)\n",
        "    self.L_1 = nn.Linear(in_features=c3_dim * sample_dim, out_features=128)\n",
        "    self.L_2 = nn.Linear(in_features=128, out_features=128)\n",
        "    self.L_3 = nn.Linear(in_features=128, out_features=(n*n*2))\n",
        "\n",
        "    self.relu = nn.ReLU()\n",
        "\n",
        "    self.norm1 = nn.BatchNorm1d(num_features=c1_dim)\n",
        "    self.norm2 = nn.BatchNorm1d(num_features=c2_dim)\n",
        "    self.norm3 = nn.BatchNorm1d(num_features=c3_dim)\n",
        "\n",
        "\n",
        "  def forward(self, x):\n",
        "\n",
        "    x = self.relu(self.C_1(x))\n",
        "    #print(x.shape)\n",
        "    x = self.norm1(x)\n",
        "    #print(x.shape)\n",
        "    x = self.relu(self.C_2(x))\n",
        "    x = self.norm2(x)\n",
        "    x = self.relu(self.C_3(x))\n",
        "    x = self.norm3(x)\n",
        "\n",
        "    #print(x.shape)\n",
        "    # print(x.size(0))\n",
        "    # print(f\"After c1d: {x.shape}\")\n",
        "    x = x.view(x.size(0), -1)\n",
        "    #print(f\"After view: {x.shape}\")\n",
        "\n",
        "\n",
        "    x = self.relu(self.L_1(x))\n",
        "    x = self.relu(self.L_2(x))\n",
        "    x = self.L_3(x)\n",
        "\n",
        "    return x.view(x.size(0),n,n,2)\n",
        "\n",
        "\n",
        "n = 3\n",
        "sample_dim = 1024\n",
        "c1_dim = 64\n",
        "c2_dim = 64\n",
        "c3_dim = (n*n*2)\n",
        "\n",
        "model_0 = GG(n, sample_dim, c1_dim, c2_dim, c3_dim).to(device)"
      ],
      "metadata": {
        "id": "ejXOuhwqw7xU"
      },
      "execution_count": 86,
      "outputs": []
    },
    {
      "cell_type": "code",
      "source": [
        "#optuna\n",
        "\n",
        "loss_fn = nn.MSELoss()\n",
        "\n",
        "optimizer = torch.optim.SGD(model_0.parameters(),\n",
        "                             lr=.01)\n",
        "\n",
        "# ---------------------------------------------------------------------------\n",
        "X_train, y_train = X_train.to(device), y_train.to(device)\n",
        "X_test, y_test = X_test.to(device), y_test.to(device)\n",
        "\n",
        "# ---------------------------------------------------------------------------\n",
        "\n",
        "torch.manual_seed(0)\n",
        "torch.cuda.manual_seed(0)\n",
        "\n",
        "loss_vals=[]\n",
        "test_loss_vals=[]\n",
        "epoch_vals=[]\n",
        "\n",
        "epochs = 100\n",
        "batch_size = 32\n",
        "\n",
        "dataset = TensorDataset(X_train, y_train)\n",
        "dataloader = DataLoader(dataset, batch_size=batch_size, shuffle=True)\n",
        "for epoch in range(epochs):\n",
        "  for batch in dataloader:\n",
        "    X_batch, y_batch = batch\n",
        "\n",
        "    model_0.train()\n",
        "    y_preds = model_0(X_batch)\n",
        "    # print(f\"y_preds shape: {y_preds.shape}\")\n",
        "    # print(f\"y_batch shape: {y_batch.shape}\")\n",
        "    loss = loss_fn(y_preds, y_batch)\n",
        "    #acc = accuracy_fn\n",
        "    optimizer.zero_grad()\n",
        "    loss.backward()\n",
        "    optimizer.step()\n",
        "\n",
        "    model_0.eval()\n",
        "    with torch.inference_mode():\n",
        "\n",
        "\n",
        "      test_pred = model_0(X_test)\n",
        "      test_loss = loss_fn(test_pred,y_test)\n",
        "      #test_acc = accuracy_fn(y_true=, y_pred=)\n",
        "\n",
        "  if epoch % 1 == 0:\n",
        "    epoch_vals.append(epoch)\n",
        "    loss_vals.append(loss)\n",
        "    test_loss_vals.append(test_loss)\n",
        "\n",
        "    print(f\"Epoch: {epoch} | Loss: {loss} |Test loss: {test_loss}\")"
      ],
      "metadata": {
        "id": "Xyj-AEsMyb4z",
        "colab": {
          "base_uri": "https://localhost:8080/"
        },
        "outputId": "4b466acd-f456-4f88-bd2e-d67535c01b8c"
      },
      "execution_count": 87,
      "outputs": [
        {
          "output_type": "stream",
          "name": "stdout",
          "text": [
            "Epoch: 0 | Loss: 0.05216280370950699 |Test loss: 0.10879233479499817\n",
            "Epoch: 1 | Loss: 0.04543815180659294 |Test loss: 0.03930265083909035\n",
            "Epoch: 2 | Loss: 0.04935963824391365 |Test loss: 0.03663884103298187\n",
            "Epoch: 3 | Loss: 0.035456929355859756 |Test loss: 0.0342823788523674\n",
            "Epoch: 4 | Loss: 0.03964045271277428 |Test loss: 0.03353387489914894\n",
            "Epoch: 5 | Loss: 0.027845017611980438 |Test loss: 0.03273346275091171\n",
            "Epoch: 6 | Loss: 0.03285887837409973 |Test loss: 0.03226166218519211\n",
            "Epoch: 7 | Loss: 0.03533163666725159 |Test loss: 0.03234167397022247\n",
            "Epoch: 8 | Loss: 0.03454487398266792 |Test loss: 0.031049275770783424\n",
            "Epoch: 9 | Loss: 0.02814483642578125 |Test loss: 0.0304742269217968\n",
            "Epoch: 10 | Loss: 0.028494730591773987 |Test loss: 0.030663860961794853\n",
            "Epoch: 11 | Loss: 0.02796412631869316 |Test loss: 0.03010677732527256\n",
            "Epoch: 12 | Loss: 0.03205365687608719 |Test loss: 0.029358815401792526\n",
            "Epoch: 13 | Loss: 0.033935513347387314 |Test loss: 0.03042091242969036\n",
            "Epoch: 14 | Loss: 0.025546465069055557 |Test loss: 0.02959434874355793\n",
            "Epoch: 15 | Loss: 0.029674790799617767 |Test loss: 0.029330916702747345\n",
            "Epoch: 16 | Loss: 0.03239698335528374 |Test loss: 0.029514996334910393\n",
            "Epoch: 17 | Loss: 0.026700623333454132 |Test loss: 0.029648881405591965\n",
            "Epoch: 18 | Loss: 0.03012535721063614 |Test loss: 0.028844932094216347\n",
            "Epoch: 19 | Loss: 0.025010431185364723 |Test loss: 0.028559425845742226\n",
            "Epoch: 20 | Loss: 0.02502368576824665 |Test loss: 0.028402499854564667\n",
            "Epoch: 21 | Loss: 0.019668610766530037 |Test loss: 0.028544088825583458\n",
            "Epoch: 22 | Loss: 0.04038611054420471 |Test loss: 0.030701661482453346\n",
            "Epoch: 23 | Loss: 0.02518099546432495 |Test loss: 0.029527733102440834\n",
            "Epoch: 24 | Loss: 0.026706377044320107 |Test loss: 0.028321998193860054\n",
            "Epoch: 25 | Loss: 0.024792982265353203 |Test loss: 0.028612585738301277\n",
            "Epoch: 26 | Loss: 0.026576483622193336 |Test loss: 0.028757723048329353\n",
            "Epoch: 27 | Loss: 0.029073355719447136 |Test loss: 0.028269493952393532\n",
            "Epoch: 28 | Loss: 0.028964167460799217 |Test loss: 0.028579216450452805\n",
            "Epoch: 29 | Loss: 0.028434542939066887 |Test loss: 0.02836623229086399\n",
            "Epoch: 30 | Loss: 0.023726094514131546 |Test loss: 0.028148453682661057\n",
            "Epoch: 31 | Loss: 0.025498587638139725 |Test loss: 0.028949622064828873\n",
            "Epoch: 32 | Loss: 0.027051877230405807 |Test loss: 0.028147371485829353\n",
            "Epoch: 33 | Loss: 0.023090910166502 |Test loss: 0.028553331270813942\n",
            "Epoch: 34 | Loss: 0.027934502810239792 |Test loss: 0.02832445316016674\n",
            "Epoch: 35 | Loss: 0.023869246244430542 |Test loss: 0.027964675799012184\n",
            "Epoch: 36 | Loss: 0.025519005954265594 |Test loss: 0.028138484805822372\n",
            "Epoch: 37 | Loss: 0.03427913039922714 |Test loss: 0.029177550226449966\n",
            "Epoch: 38 | Loss: 0.028568871319293976 |Test loss: 0.028734546154737473\n",
            "Epoch: 39 | Loss: 0.027712875977158546 |Test loss: 0.028477592393755913\n",
            "Epoch: 40 | Loss: 0.02778932824730873 |Test loss: 0.028286898508667946\n",
            "Epoch: 41 | Loss: 0.02414916642010212 |Test loss: 0.028388818725943565\n",
            "Epoch: 42 | Loss: 0.022434432059526443 |Test loss: 0.02851911075413227\n",
            "Epoch: 43 | Loss: 0.027131687849760056 |Test loss: 0.028155213221907616\n",
            "Epoch: 44 | Loss: 0.027367891743779182 |Test loss: 0.028553560376167297\n",
            "Epoch: 45 | Loss: 0.02413693442940712 |Test loss: 0.02857518196105957\n",
            "Epoch: 46 | Loss: 0.019017545506358147 |Test loss: 0.028073864057660103\n",
            "Epoch: 47 | Loss: 0.025000497698783875 |Test loss: 0.02824440412223339\n",
            "Epoch: 48 | Loss: 0.028841029852628708 |Test loss: 0.028367148712277412\n",
            "Epoch: 49 | Loss: 0.0203723032027483 |Test loss: 0.02825804241001606\n",
            "Epoch: 50 | Loss: 0.021314064040780067 |Test loss: 0.027983903884887695\n",
            "Epoch: 51 | Loss: 0.026553798466920853 |Test loss: 0.02852446213364601\n",
            "Epoch: 52 | Loss: 0.024732014164328575 |Test loss: 0.028387129306793213\n",
            "Epoch: 53 | Loss: 0.025116242468357086 |Test loss: 0.02892840839922428\n",
            "Epoch: 54 | Loss: 0.02271454967558384 |Test loss: 0.02804774045944214\n",
            "Epoch: 55 | Loss: 0.03157126531004906 |Test loss: 0.02904980629682541\n",
            "Epoch: 56 | Loss: 0.023880861699581146 |Test loss: 0.02769167535007\n",
            "Epoch: 57 | Loss: 0.0274544358253479 |Test loss: 0.02800777554512024\n",
            "Epoch: 58 | Loss: 0.023260636255145073 |Test loss: 0.02798662707209587\n",
            "Epoch: 59 | Loss: 0.022685294970870018 |Test loss: 0.028042158111929893\n",
            "Epoch: 60 | Loss: 0.028729580342769623 |Test loss: 0.028048889711499214\n",
            "Epoch: 61 | Loss: 0.03140691667795181 |Test loss: 0.02812245674431324\n",
            "Epoch: 62 | Loss: 0.028929129242897034 |Test loss: 0.028277797624468803\n",
            "Epoch: 63 | Loss: 0.01943030022084713 |Test loss: 0.027723968029022217\n",
            "Epoch: 64 | Loss: 0.02023894712328911 |Test loss: 0.02840062975883484\n",
            "Epoch: 65 | Loss: 0.020891139283776283 |Test loss: 0.028189130127429962\n",
            "Epoch: 66 | Loss: 0.023695696145296097 |Test loss: 0.02779296413064003\n",
            "Epoch: 67 | Loss: 0.032249484211206436 |Test loss: 0.02862854301929474\n",
            "Epoch: 68 | Loss: 0.02644418179988861 |Test loss: 0.028447549790143967\n",
            "Epoch: 69 | Loss: 0.02366727590560913 |Test loss: 0.028276246041059494\n",
            "Epoch: 70 | Loss: 0.030723897740244865 |Test loss: 0.028226491063833237\n",
            "Epoch: 71 | Loss: 0.024940840899944305 |Test loss: 0.028163982555270195\n",
            "Epoch: 72 | Loss: 0.015980621799826622 |Test loss: 0.028558356687426567\n",
            "Epoch: 73 | Loss: 0.019800566136837006 |Test loss: 0.02803671732544899\n",
            "Epoch: 74 | Loss: 0.02234259620308876 |Test loss: 0.028793375939130783\n",
            "Epoch: 75 | Loss: 0.022694744169712067 |Test loss: 0.02826409414410591\n",
            "Epoch: 76 | Loss: 0.03018956072628498 |Test loss: 0.0281814131885767\n",
            "Epoch: 77 | Loss: 0.0214572474360466 |Test loss: 0.028042810037732124\n",
            "Epoch: 78 | Loss: 0.025120630860328674 |Test loss: 0.028533650562167168\n",
            "Epoch: 79 | Loss: 0.025211555883288383 |Test loss: 0.028568772599101067\n",
            "Epoch: 80 | Loss: 0.023898955434560776 |Test loss: 0.028318976983428\n",
            "Epoch: 81 | Loss: 0.024588044732809067 |Test loss: 0.028413711115717888\n",
            "Epoch: 82 | Loss: 0.020345935598015785 |Test loss: 0.028335683047771454\n",
            "Epoch: 83 | Loss: 0.015719415619969368 |Test loss: 0.027971379458904266\n",
            "Epoch: 84 | Loss: 0.023417338728904724 |Test loss: 0.028306130319833755\n",
            "Epoch: 85 | Loss: 0.03172001987695694 |Test loss: 0.028442973271012306\n",
            "Epoch: 86 | Loss: 0.01967110112309456 |Test loss: 0.02799428068101406\n",
            "Epoch: 87 | Loss: 0.019350623711943626 |Test loss: 0.028280166909098625\n",
            "Epoch: 88 | Loss: 0.02492055483162403 |Test loss: 0.028168778866529465\n",
            "Epoch: 89 | Loss: 0.023626746609807014 |Test loss: 0.02835957333445549\n",
            "Epoch: 90 | Loss: 0.02541579306125641 |Test loss: 0.028494328260421753\n",
            "Epoch: 91 | Loss: 0.02919771336019039 |Test loss: 0.028447406366467476\n",
            "Epoch: 92 | Loss: 0.024020656943321228 |Test loss: 0.028358416631817818\n",
            "Epoch: 93 | Loss: 0.021891165524721146 |Test loss: 0.0286247655749321\n",
            "Epoch: 94 | Loss: 0.022571738809347153 |Test loss: 0.028482718393206596\n",
            "Epoch: 95 | Loss: 0.02117755264043808 |Test loss: 0.02885974757373333\n",
            "Epoch: 96 | Loss: 0.021370546892285347 |Test loss: 0.02852689102292061\n",
            "Epoch: 97 | Loss: 0.024035988375544548 |Test loss: 0.02867310680449009\n",
            "Epoch: 98 | Loss: 0.03281012177467346 |Test loss: 0.028604332357645035\n",
            "Epoch: 99 | Loss: 0.02226880192756653 |Test loss: 0.028098030015826225\n"
          ]
        }
      ]
    },
    {
      "cell_type": "code",
      "source": [
        "\n",
        "\n",
        "epoch_vals = np.array(epoch_vals)\n",
        "loss_vals = np.array([loss.item() for loss in loss_vals])\n",
        "test_loss_vals = np.array([test_loss.item() for test_loss in test_loss_vals])\n",
        "\n",
        "\n",
        "plt.plot(epoch_vals, loss_vals, label=\"Training Loss\")\n",
        "plt.plot(epoch_vals, test_loss_vals, label=\"Test Loss\")\n",
        "plt.title(\"Training and Test Loss\")\n",
        "plt.legend()"
      ],
      "metadata": {
        "colab": {
          "base_uri": "https://localhost:8080/",
          "height": 470
        },
        "id": "YgU7rq8xaJJo",
        "outputId": "e8ed40d7-6f8e-4311-b666-8b3ce313972a"
      },
      "execution_count": 78,
      "outputs": [
        {
          "output_type": "execute_result",
          "data": {
            "text/plain": [
              "<matplotlib.legend.Legend at 0x7ef531097010>"
            ]
          },
          "metadata": {},
          "execution_count": 78
        },
        {
          "output_type": "display_data",
          "data": {
            "text/plain": [
              "<Figure size 640x480 with 1 Axes>"
            ],
            "image/png": "[encoded data removed]"
          },
          "metadata": {}
        }
      ]
    },
    {
      "cell_type": "code",
      "source": [
        "def accuracy_fn(y_target,\n",
        "                y_pred):\n",
        "  acc = []\n",
        "  for complex_matrix_target, complex_matrix_pred in zip(y_target.cpu(), y_pred.cpu()):\n",
        "    component_matrix_target = genComponentMatrix(complex_matrix_target,300)\n",
        "    component_matrix_pred = genComponentMatrix(complex_matrix_pred,300)\n",
        "\n",
        "    sig_response_target = simulateCircuitMatrix(componentMatrix=component_matrix_target,\n",
        "                                        t_stop=1.023E-3,\n",
        "                                        dt=1E-6)\n",
        "    sig_response_pred = simulateCircuitMatrix(componentMatrix=component_matrix_pred,\n",
        "                                        t_stop=1.023E-3,\n",
        "                                        dt=1E-6)\n",
        "\n",
        "    plt.plot(sig_response_target, label=\"Target\")\n",
        "    plt.plot(sig_response_pred, label=\"Prediction\")\n",
        "    plt.show()\n",
        "\n",
        "    absolute_errors = np.abs(sig_response_target - sig_response_pred)\n",
        "    mae = np.mean(absolute_errors)\n",
        "\n",
        "    acc.append(mae)\n",
        "  return acc\n",
        "\n",
        "\n",
        "\n",
        "model_0.eval()\n",
        "with torch.inference_mode():\n",
        "  y_pred = model_0(X_test)\n",
        "\n",
        "  num_circuits = 3\n",
        "  y_p = y_pred[24:24+num_circuits]\n",
        "  y_t = y_test[24:24+num_circuits]\n",
        "\n",
        "\n",
        "\n",
        "  # print(y_p.shape)\n",
        "  # print(y_t.shape)\n",
        "\n",
        "  acc = accuracy_fn(y_t,\n",
        "                    y_p)\n",
        "  print(f\"Accuracy given by MAE: \\n{acc}\")\n",
        "\n",
        "\n",
        "# L = nn.L1Loss()\n",
        "# L(y_pred, y_test)\n",
        "\n"
      ],
      "metadata": {
        "id": "t7v90pHc4qK0",
        "colab": {
          "base_uri": "https://localhost:8080/",
          "height": 1000
        },
        "outputId": "7fc62d86-5e60-451b-ff92-5a37b6e6ff18"
      },
      "execution_count": 132,
      "outputs": [
        {
          "output_type": "stream",
          "name": "stdout",
          "text": [
            "C12 N1 N2 6.789418334960937e-07 0 \n",
            "V1 N1 0 step 1\n",
            "\n",
            ".\n",
            "R12 N1 N2 566.3350830078125\n",
            "L12 N1 N2 8.694041442871095e-08 0 \n",
            "R13 N1 0 674.3203735351562\n",
            "L13 N1 0 2.240681304931641e-07 0 \n",
            "R23 N2 0 788.8507080078125\n",
            "L23 N2 0 9.578204956054688e-07 0 \n",
            "V1 N1 0 step 1\n",
            "\n",
            ".\n"
          ]
        },
        {
          "output_type": "display_data",
          "data": {
            "text/plain": [
              "<Figure size 640x480 with 1 Axes>"
            ],
            "image/png": "[encoded data removed]"
          },
          "metadata": {}
        },
        {
          "output_type": "stream",
          "name": "stdout",
          "text": [
            "R12 N1 N2 8.317666053771973\n",
            "L12 N1 N2 8.830994262695313e-07 0 \n",
            "R13 N1 0 378.0267028808594\n",
            "L13 N1 0 6.400736083984375e-07 0 \n",
            "V1 N1 0 step 1\n",
            "\n",
            ".\n",
            "R12 N1 N2 566.3350830078125\n",
            "L12 N1 N2 8.694041442871095e-08 0 \n",
            "R13 N1 0 674.3203735351562\n",
            "L13 N1 0 2.240681304931641e-07 0 \n",
            "R23 N2 0 788.8507080078125\n",
            "L23 N2 0 9.578204956054688e-07 0 \n",
            "V1 N1 0 step 1\n",
            "\n",
            ".\n"
          ]
        },
        {
          "output_type": "display_data",
          "data": {
            "text/plain": [
              "<Figure size 640x480 with 1 Axes>"
            ],
            "image/png": "[encoded data removed]"
          },
          "metadata": {}
        },
        {
          "output_type": "stream",
          "name": "stdout",
          "text": [
            "L12 N1 N2 6.964937744140625e-07 0 \n",
            "R23 N2 0 914.498291015625\n",
            "C23 N2 0 4.9525830078125e-07 0 \n",
            "V1 N1 0 step 1\n",
            "\n",
            ".\n",
            "R12 N1 N2 596.3798828125\n",
            "L12 N1 N2 3.8580023193359375e-07 0 \n",
            "R13 N1 0 641.8085327148438\n",
            "C13 N1 0 5.559508895874024e-08 0 \n",
            "R23 N2 0 468.18634033203125\n",
            "C23 N2 0 4.940494995117188e-07 0 \n",
            "V1 N1 0 step 1\n",
            "\n",
            ".\n"
          ]
        },
        {
          "output_type": "display_data",
          "data": {
            "text/plain": [
              "<Figure size 640x480 with 1 Axes>"
            ],
            "image/png": "[encoded data removed]"
          },
          "metadata": {}
        },
        {
          "output_type": "stream",
          "name": "stdout",
          "text": [
            "Accuracy given by MAE: \n",
            "[0.08313445124563576, 0.08313445124564231, 0.3871333816034762]\n"
          ]
        }
      ]
    },
    {
      "cell_type": "code",
      "source": [],
      "metadata": {
        "id": "4NOqg6mAf2Bf"
      },
      "execution_count": null,
      "outputs": []
    },
    {
      "cell_type": "code",
      "source": [
        "!pip install lcapy\n",
        "import lcapy as lc\n",
        "import matplotlib.pyplot as plt\n",
        "import numpy as np\n",
        "\n",
        "\n",
        "\n",
        "def simulateCircuitMatrix(componentMatrix, t_stop, dt):\n",
        "    # component matrix is n x n x 3 of [R, C, L]\n",
        "    # tStop is stop time in seconds\n",
        "    # sample rate is dt in seconds\n",
        "    # returns n x 1 array of voltage vs time in response to step function\n",
        "\n",
        "    netlist = generateNetlistFromCompMatrix(componentMatrix)\n",
        "    response = simulateStepResponse(netlist, t_stop, dt)\n",
        "\n",
        "    return response\n",
        "\n",
        "def genComplexMatrix(componentMatrix,a):\n",
        "    inSize = np.shape(componentMatrix)\n",
        "    complexMatrix = np.zeros([inSize[0], inSize[1], 2])\n",
        "    for row in range(inSize[0]):\n",
        "        for col in range(inSize[1]):\n",
        "            complexMatrix[row,col,:] = get2MatrixFromComponent(componentMatrix[row,col,:],a)\n",
        "    return complexMatrix\n",
        "\n",
        "def genComponentMatrix(complexMatrix, a=100):\n",
        "    inSize = np.shape(complexMatrix)\n",
        "    componentMatrix = np.zeros([inSize[0], inSize[1], 3])\n",
        "    for row in range(inSize[0]):\n",
        "        for col in range(inSize[1]):\n",
        "            componentMatrix[row,col,:] = getComponentFrom2Matrix(complexMatrix[row,col,:],a)\n",
        "    return componentMatrix\n",
        "\n",
        "\n",
        "# ---------------------------------------------------------------------------\n",
        "def getComponentFrom2Matrix(x,a):\n",
        "    # scaling factor\n",
        "    if(x[0] == 1):\n",
        "        R = np.inf\n",
        "    else:\n",
        "        temp1 = a*np.log((1+x[0])/(1-x[0]))\n",
        "        R = temp1\n",
        "    if(x[1] == 0.5):\n",
        "        L = 0\n",
        "        C = 0\n",
        "    elif(x[1] == 0):\n",
        "        L = np.inf\n",
        "        C = 0\n",
        "    elif(x[1] == 1):\n",
        "        L = np.inf\n",
        "        C = 0\n",
        "    else:\n",
        "        #print(x[1])\n",
        "        if not (1-x[1] <= 0):\n",
        "          temp2 = a*np.log(x[1]/(1-x[1]))\n",
        "        else:\n",
        "          temp2 = 0.0\n",
        "        C = L = 0;\n",
        "        if(temp2 > 0):\n",
        "            L = temp2\n",
        "            C = 0;\n",
        "        elif(temp2 < 0):\n",
        "            C = -temp2\n",
        "            L = np.inf\n",
        "    return [R, C, L]\n",
        "\n",
        "def get2MatrixFromComponent(component,a):\n",
        "    # component is (R,C,L) in units of kOhm, nF, nH\n",
        "    R = component[0]\n",
        "    C = component[1]\n",
        "    L = component[2]\n",
        "    if(C != 0 and L != np.inf):\n",
        "        # can't have both L and  C between nodes\n",
        "        print(\"Can't have both L and C on the same node!!!\")\n",
        "    if(R == np.inf):\n",
        "        x1 = 1\n",
        "    else:\n",
        "        temp1 = np.exp(-R/a)\n",
        "        x1 = -(temp1-1)/(temp1+1)\n",
        "    temp2 = 0\n",
        "    if(C == 0 and L == np.inf):\n",
        "        x2 = 1;\n",
        "    else:\n",
        "        if(C == 0 and L != np.inf):\n",
        "            temp2 = L\n",
        "        elif(C != 0 and L == np.inf):\n",
        "            temp2 = -C\n",
        "        x2 = 1/(1+np.exp(-temp2/a))\n",
        "    return [x1, x2]\n",
        "\n",
        "def generateNetlistFromCompMatrix(X):\n",
        "    matrixSize = X.shape\n",
        "    num_nets = matrixSize[1]\n",
        "    netlist = ''\n",
        "    for i in range(num_nets):\n",
        "        for j in range(i+1,num_nets):\n",
        "            R = np.real(X[i, j, 0])\n",
        "            C = np.real(X[i, j, 1])\n",
        "            L = np.real(X[i, j, 2])\n",
        "            node1 = f'N{i+1}'\n",
        "            if(j == num_nets-1):\n",
        "                node2 = '0'\n",
        "            else:\n",
        "                node2 = f'N{j+1}'\n",
        "            if(C != 0 and L != np.inf):\n",
        "                print(\"L and C cannot both be present!\")\n",
        "            if(R != np.inf):\n",
        "                component_name = f'R{i+1}{j+1}'\n",
        "                netlist += f\"{component_name} {node1} {node2} {R}\\n\"\n",
        "            if(C != 0):\n",
        "                component_name = f'C{i+1}{j+1}'\n",
        "                netlist += f\"{component_name} {node1} {node2} {C*1e-9} 0 \\n\"\n",
        "            if(L != np.inf):\n",
        "                component_name = f'L{i+1}{j+1}'\n",
        "                netlist += f\"{component_name} {node1} {node2} {L*1e-9} 0 \\n\"\n",
        "\n",
        "    # add step voltage source\n",
        "    netlist += f\"V1 N1 0 step 1\\n\"\n",
        "    #netlist += f\"R0 N3 0 0\"\n",
        "\n",
        "    print(netlist)\n",
        "    print('.')\n",
        "    return netlist\n",
        "\n",
        "def simulateStepResponse(netlist, duration=1, time_step = 0.001):\n",
        "    # Create the circuit from the netlist\n",
        "    circuit = lc.Circuit(netlist)\n",
        "    #print(circuit)\n",
        "    # circuit.draw();\n",
        "    # Define the step input\n",
        "    #Vstep = lc.StepVoltageSource('Vstep', initial_value=0, final_value=1, pulse_width=duration)\n",
        "\n",
        "    # Add the step input to the circuit\n",
        "    #circuit.add_source(Vstep)\n",
        "\n",
        "    # Set the end time and number of points for simulation\n",
        "    # circuit.draw()\n",
        "    #circuit.set_end_time(duration)\n",
        "    num_points = duration/time_step + 1;\n",
        "    #circuit.set_num_samples(num_points)\n",
        "    timeEval = np.linspace(0, duration, round(num_points))\n",
        "\n",
        "    # Perform the simulation\n",
        "    response = circuit.sim(timeEval)  # 'N' refers to the node name\n",
        "\n",
        "    return response.N2.v\n",
        "# ---------------------------------------------------------------------------\n",
        "\n"
      ],
      "metadata": {
        "colab": {
          "base_uri": "https://localhost:8080/"
        },
        "id": "ieNsj-KbKpab",
        "outputId": "c506d045-793e-407b-bb8b-546b04bb67c0"
      },
      "execution_count": 124,
      "outputs": [
        {
          "output_type": "stream",
          "name": "stdout",
          "text": [
            "Requirement already satisfied: lcapy in /usr/local/lib/python3.10/dist-packages (1.16)\n",
            "Requirement already satisfied: IPython in /usr/local/lib/python3.10/dist-packages (from lcapy) (7.34.0)\n",
            "Requirement already satisfied: matplotlib in /usr/local/lib/python3.10/dist-packages (from lcapy) (3.7.1)\n",
            "Requirement already satisfied: networkx in /usr/local/lib/python3.10/dist-packages (from lcapy) (3.1)\n",
            "Requirement already satisfied: numpy in /usr/local/lib/python3.10/dist-packages (from lcapy) (1.22.4)\n",
            "Requirement already satisfied: property-cached in /usr/local/lib/python3.10/dist-packages (from lcapy) (1.6.4)\n",
            "Requirement already satisfied: scipy in /usr/local/lib/python3.10/dist-packages (from lcapy) (1.10.1)\n",
            "Requirement already satisfied: setuptools in /usr/local/lib/python3.10/dist-packages (from lcapy) (67.7.2)\n",
            "Requirement already satisfied: sympy>=1.10.1 in /usr/local/lib/python3.10/dist-packages (from lcapy) (1.11.1)\n",
            "Requirement already satisfied: wheel in /usr/local/lib/python3.10/dist-packages (from lcapy) (0.40.0)\n",
            "Requirement already satisfied: mpmath>=0.19 in /usr/local/lib/python3.10/dist-packages (from sympy>=1.10.1->lcapy) (1.3.0)\n",
            "Requirement already satisfied: jedi>=0.16 in /usr/local/lib/python3.10/dist-packages (from IPython->lcapy) (0.18.2)\n",
            "Requirement already satisfied: decorator in /usr/local/lib/python3.10/dist-packages (from IPython->lcapy) (4.4.2)\n",
            "Requirement already satisfied: pickleshare in /usr/local/lib/python3.10/dist-packages (from IPython->lcapy) (0.7.5)\n",
            "Requirement already satisfied: traitlets>=4.2 in /usr/local/lib/python3.10/dist-packages (from IPython->lcapy) (5.7.1)\n",
            "Requirement already satisfied: prompt-toolkit!=3.0.0,!=3.0.1,<3.1.0,>=2.0.0 in /usr/local/lib/python3.10/dist-packages (from IPython->lcapy) (3.0.39)\n",
            "Requirement already satisfied: pygments in /usr/local/lib/python3.10/dist-packages (from IPython->lcapy) (2.14.0)\n",
            "Requirement already satisfied: backcall in /usr/local/lib/python3.10/dist-packages (from IPython->lcapy) (0.2.0)\n",
            "Requirement already satisfied: matplotlib-inline in /usr/local/lib/python3.10/dist-packages (from IPython->lcapy) (0.1.6)\n",
            "Requirement already satisfied: pexpect>4.3 in /usr/local/lib/python3.10/dist-packages (from IPython->lcapy) (4.8.0)\n",
            "Requirement already satisfied: contourpy>=1.0.1 in /usr/local/lib/python3.10/dist-packages (from matplotlib->lcapy) (1.1.0)\n",
            "Requirement already satisfied: cycler>=0.10 in /usr/local/lib/python3.10/dist-packages (from matplotlib->lcapy) (0.11.0)\n",
            "Requirement already satisfied: fonttools>=4.22.0 in /usr/local/lib/python3.10/dist-packages (from matplotlib->lcapy) (4.40.0)\n",
            "Requirement already satisfied: kiwisolver>=1.0.1 in /usr/local/lib/python3.10/dist-packages (from matplotlib->lcapy) (1.4.4)\n",
            "Requirement already satisfied: packaging>=20.0 in /usr/local/lib/python3.10/dist-packages (from matplotlib->lcapy) (23.1)\n",
            "Requirement already satisfied: pillow>=6.2.0 in /usr/local/lib/python3.10/dist-packages (from matplotlib->lcapy) (8.4.0)\n",
            "Requirement already satisfied: pyparsing>=2.3.1 in /usr/local/lib/python3.10/dist-packages (from matplotlib->lcapy) (3.1.0)\n",
            "Requirement already satisfied: python-dateutil>=2.7 in /usr/local/lib/python3.10/dist-packages (from matplotlib->lcapy) (2.8.2)\n",
            "Requirement already satisfied: parso<0.9.0,>=0.8.0 in /usr/local/lib/python3.10/dist-packages (from jedi>=0.16->IPython->lcapy) (0.8.3)\n",
            "Requirement already satisfied: ptyprocess>=0.5 in /usr/local/lib/python3.10/dist-packages (from pexpect>4.3->IPython->lcapy) (0.7.0)\n",
            "Requirement already satisfied: wcwidth in /usr/local/lib/python3.10/dist-packages (from prompt-toolkit!=3.0.0,!=3.0.1,<3.1.0,>=2.0.0->IPython->lcapy) (0.2.6)\n",
            "Requirement already satisfied: six>=1.5 in /usr/local/lib/python3.10/dist-packages (from python-dateutil>=2.7->matplotlib->lcapy) (1.16.0)\n"
          ]
        }
      ]
    },
    {
      "cell_type": "code",
      "source": [],
      "metadata": {
        "id": "iMx5EZ57ML66"
      },
      "execution_count": null,
      "outputs": []
    }
  ]
}