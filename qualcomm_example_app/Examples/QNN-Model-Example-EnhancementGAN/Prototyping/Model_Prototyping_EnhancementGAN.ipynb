{
 "cells": [
  {
   "cell_type": "markdown",
   "id": "7f127efe",
   "metadata": {},
   "source": [
    "# Model Prototyping for EnhancementGAN"
   ]
  },
  {
   "cell_type": "code",
   "execution_count": null,
   "id": "76cd0e07",
   "metadata": {},
   "outputs": [],
   "source": [
    "import cv2\n",
    "import glob\n",
    "import os\n",
    "import numpy as np\n",
    "import torch"
   ]
  },
  {
   "cell_type": "markdown",
   "id": "23c08fb6",
   "metadata": {},
   "source": [
    "## Download a sample image"
   ]
  },
  {
   "cell_type": "code",
   "execution_count": null,
   "id": "74895e3c",
   "metadata": {},
   "outputs": [],
   "source": [
    "%%bash\n",
    "mkdir -p Original\n",
    "wget -O Original/sample.jpg https://github.com/quic/qidk/raw/master/VisionSolution3-ImageEnhancement/enhancement/src/main/assets/Sample1.jpg"
   ]
  },
  {
   "cell_type": "markdown",
   "id": "50d29af8",
   "metadata": {},
   "source": [
    "## Pre-processing data"
   ]
  },
  {
   "cell_type": "code",
   "execution_count": null,
   "id": "89a9ca3c",
   "metadata": {},
   "outputs": [],
   "source": [
    "def convert_image(img, source, target):\n",
    "    if source == 'array':\n",
    "        img = torch.from_numpy(img.transpose((2, 0, 1))).contiguous()#chw\n",
    "        img = img.to(dtype=torch.float32).div(255) \n",
    "    elif source == '[0, 1]':\n",
    "        img = torch.clamp(img, 0, 1)  # useful to post-process output of models that can overspill\n",
    "    \n",
    "    if target == '[0, 1]':\n",
    "        pass  # already in [0, 1]\n",
    "    return img"
   ]
  },
  {
   "cell_type": "code",
   "execution_count": null,
   "id": "6a4aac91",
   "metadata": {},
   "outputs": [],
   "source": [
    "def preprocess(img_path):\n",
    "        l_img = cv2.resize(cv2.imread(img_path),[320,240],interpolation=cv2.INTER_CUBIC)\n",
    "        l_img = cv2.cvtColor(l_img, cv2.COLOR_BGR2RGB)\n",
    "        ll_img = np.array(l_img, dtype='float32')\n",
    "        ll_img = np.uint8(np.clip(ll_img, 0., 255.))  # this is to simulate matlab's imwrite operation\n",
    "        ll_img = np.uint8(ll_img)\n",
    "        ll_img = convert_image(ll_img, source='array', target='[0, 1]')\n",
    "        img_ll = ll_img.cpu().detach().numpy()\n",
    "        model_input = img_ll.astype(np.float32)\n",
    "        return model_input"
   ]
  },
  {
   "cell_type": "markdown",
   "id": "75965deb",
   "metadata": {},
   "source": [
    "## Post-processing data"
   ]
  },
  {
   "cell_type": "code",
   "execution_count": null,
   "id": "fef1f455",
   "metadata": {},
   "outputs": [],
   "source": [
    "def post_process_enhanced(img):\n",
    "    img = np.fromfile(img, np.float32)\n",
    "    img = img.reshape((3, 240, 320)).astype(np.float32)\n",
    "    img = np.clip((img+1)/2 * 255. , 0., 255.)\n",
    "    img = np.uint8(img)\n",
    "    img = img.transpose(1, 2, 0)#hwc\n",
    "    return img"
   ]
  },
  {
   "cell_type": "markdown",
   "id": "154aaa76",
   "metadata": {},
   "source": [
    "## Prepare the data for the model"
   ]
  },
  {
   "cell_type": "code",
   "execution_count": null,
   "id": "692c28eb",
   "metadata": {},
   "outputs": [],
   "source": [
    "%%bash\n",
    "mkdir -p raw"
   ]
  },
  {
   "cell_type": "code",
   "execution_count": null,
   "id": "77c12542",
   "metadata": {},
   "outputs": [],
   "source": [
    "for image in os.listdir('Original'):\n",
    "    img_path = 'Original/'+image\n",
    "    raw_input = preprocess(img_path)\n",
    "    fid = open(\"raw/\"+str(image[:-4])+ \".raw\", 'wb')\n",
    "    raw_input.tofile(fid)\n",
    "    fid.close()"
   ]
  },
  {
   "cell_type": "code",
   "execution_count": null,
   "id": "c3d9a465",
   "metadata": {},
   "outputs": [],
   "source": [
    "%%bash\n",
    "find . -name *.raw > list.txt"
   ]
  },
  {
   "cell_type": "markdown",
   "id": "6edea707",
   "metadata": {},
   "source": [
    "# Setting up Artifacts Paths\n",
    "\n",
    "<ul>\n",
    "    <li>Before running below block set 'QNN_SDK_ROOT' to your qnn folder path</li>\n",
    "    <li>Also, set 'DEVICE_ID' to your device-id. Use command \"adb devices\" to get devices names.</li>\n",
    "    </ul>"
   ]
  },
  {
   "cell_type": "code",
   "execution_count": null,
   "id": "44f25f8d",
   "metadata": {},
   "outputs": [],
   "source": [
    "## Give appropriate permission to the directory \"FOLDER_WITH_ARTIFACTS\" you are working with\n",
    "\n",
    "os.environ['QNN_SDK_ROOT']=\"/local/mnt/workspace/sdks/qnn/qnn-v2.9.0.230327191003_53330\"#set up your snpe path here.\n",
    "os.environ['RAW_FILE_FOLDER']=\"raw\"\n",
    "os.environ['FP32']=\"../model_libs/FP_32/aarch64-android/libenlighten_opt.so\"\n",
    "os.environ['INT8']=\"../model_libs/INT_8/aarch64-android/libenlighten_opt_quantized.so\"\n",
    "os.environ['TARGET_INPUT_LIST']=\"list.txt\"\n",
    "os.environ['ONDEVICE_FOLDER']=\"EnhancementGAN\"\n",
    "os.environ['DEVICE_HOST']=\"localhost\"\n",
    "os.environ['DEVICE_ID']=\"1c7dec76\" #fill your device-id. Use command \"adb devices\" to get devices names. example :\"e18d5d0\"\n",
    "os.environ['QNN_TARGET_ARCH']=\"aarch64-android\"\n",
    "os.environ['QNN_TARGET_CPU']=\"libQnnCpu.so\"\n",
    "os.environ['QNN_TARGET_HTP']=\"libQnnHtp.so\""
   ]
  },
  {
   "cell_type": "markdown",
   "id": "d3ba1c36",
   "metadata": {},
   "source": [
    "# Creating ON_Device Folder "
   ]
  },
  {
   "cell_type": "code",
   "execution_count": null,
   "id": "d9b95639",
   "metadata": {},
   "outputs": [],
   "source": [
    "%%bash\n",
    "export DEVICE_SHELL=\"adb -H $DEVICE_HOST -s $DEVICE_ID\"\n",
    "$DEVICE_SHELL shell \"mkdir -p /data/local/tmp/$ONDEVICE_FOLDER\""
   ]
  },
  {
   "cell_type": "markdown",
   "id": "9ee69b5b",
   "metadata": {},
   "source": [
    "# Pushing Backends and Libraries"
   ]
  },
  {
   "cell_type": "code",
   "execution_count": null,
   "id": "c0075300",
   "metadata": {},
   "outputs": [],
   "source": [
    "%%bash\n",
    "export DEVICE_SHELL=\"adb -H $DEVICE_HOST -s $DEVICE_ID\"\n",
    "$DEVICE_SHELL push ${QNN_SDK_ROOT}/target/$QNN_TARGET_ARCH/lib/$QNN_TARGET_CPU /data/local/tmp/$ONDEVICE_FOLDER\n",
    "$DEVICE_SHELL push ${QNN_SDK_ROOT}/target/$QNN_TARGET_ARCH/lib/$QNN_TARGET_HTP /data/local/tmp/$ONDEVICE_FOLDER\n",
    "$DEVICE_SHELL push ${QNN_SDK_ROOT}/target/hexagon-v73/lib/unsigned/*.so /data/local/tmp/$ONDEVICE_FOLDER\n",
    "$DEVICE_SHELL push ${QNN_SDK_ROOT}/target/$QNN_TARGET_ARCH/lib/*.so /data/local/tmp/$ONDEVICE_FOLDER\n",
    "$DEVICE_SHELL push $FP32 /data/local/tmp/$ONDEVICE_FOLDER\n",
    "$DEVICE_SHELL push $INT8 /data/local/tmp/$ONDEVICE_FOLDER\n",
    "$DEVICE_SHELL push ${QNN_SDK_ROOT}/target/$QNN_TARGET_ARCH/bin/ /data/local/tmp/$ONDEVICE_FOLDER"
   ]
  },
  {
   "cell_type": "markdown",
   "id": "b0dee45e",
   "metadata": {},
   "source": [
    "# Pushing Input list and data to the device"
   ]
  },
  {
   "cell_type": "code",
   "execution_count": null,
   "id": "783b8106",
   "metadata": {},
   "outputs": [],
   "source": [
    "%%bash\n",
    "export DEVICE_SHELL=\"adb -H $DEVICE_HOST -s $DEVICE_ID\"\n",
    "$DEVICE_SHELL push raw /data/local/tmp/$ONDEVICE_FOLDER\n",
    "$DEVICE_SHELL push $TARGET_INPUT_LIST /data/local/tmp/$ONDEVICE_FOLDER\n",
    "$DEVICE_SHELL push ../output/lib_graph_prepare_from_int8_x86.serialized.bin /data/local/tmp/$ONDEVICE_FOLDER"
   ]
  },
  {
   "cell_type": "markdown",
   "id": "ac461e18",
   "metadata": {},
   "source": [
    "# Push the qnn-net-run tool:"
   ]
  },
  {
   "cell_type": "code",
   "execution_count": null,
   "id": "840c6d8a",
   "metadata": {},
   "outputs": [],
   "source": [
    "%%bash\n",
    "export DEVICE_SHELL=\"adb -H $DEVICE_HOST -s $DEVICE_ID\"\n",
    "$DEVICE_SHELL push ${QNN_SDK_ROOT}/target/$QNN_TARGET_ARCH/bin/qnn-net-run /data/local/tmp/$ONDEVICE_FOLDER"
   ]
  },
  {
   "cell_type": "markdown",
   "id": "c4a67d6c",
   "metadata": {},
   "source": [
    "# Now set up the environment on device:"
   ]
  },
  {
   "cell_type": "markdown",
   "id": "c0ff8104",
   "metadata": {},
   "source": [
    "## qnn-net-run : CPU backend"
   ]
  },
  {
   "cell_type": "code",
   "execution_count": null,
   "id": "fbd2cbbd",
   "metadata": {},
   "outputs": [],
   "source": [
    "%%bash\n",
    "export DEVICE_SHELL=\"adb -H $DEVICE_HOST -s $DEVICE_ID\"\n",
    "$DEVICE_SHELL shell \"export LD_LIBRARY_PATH=/data/local/tmp/$ONDEVICE_FOLDER && \\ \n",
    "                     cd /data/local/tmp/$ONDEVICE_FOLDER && \\\n",
    "                     ./qnn-net-run --backend libQnnCpu.so --model libenlighten_opt.so --input_list list.txt\""
   ]
  },
  {
   "cell_type": "markdown",
   "id": "56c060a7",
   "metadata": {},
   "source": [
    "## qnn-net-run : HTP backend"
   ]
  },
  {
   "cell_type": "code",
   "execution_count": null,
   "id": "4cc64032",
   "metadata": {},
   "outputs": [],
   "source": [
    "%%bash\n",
    "export DEVICE_SHELL=\"adb -H $DEVICE_HOST -s $DEVICE_ID\"\n",
    "$DEVICE_SHELL shell \"export LD_LIBRARY_PATH=/data/local/tmp/$ONDEVICE_FOLDER && \\\n",
    "                     export ADSP_LIBRARY_PATH='/data/local/tmp/$ONDEVICE_FOLDER' && \\\n",
    "                     cd /data/local/tmp/$ONDEVICE_FOLDER && \\\n",
    "                     ./qnn-net-run --backend libQnnHtp.so --input_list list.txt --retrieve_context lib_graph_prepare_from_int8_x86.serialized.bin --output_dir output_android\""
   ]
  },
  {
   "cell_type": "markdown",
   "id": "765f21b6",
   "metadata": {},
   "source": [
    "# Pull the Results from device"
   ]
  },
  {
   "cell_type": "code",
   "execution_count": null,
   "id": "ee6b4a7b",
   "metadata": {},
   "outputs": [],
   "source": [
    "%%bash\n",
    "export DEVICE_SHELL=\"adb -H $DEVICE_HOST -s $DEVICE_ID\"\n",
    "$DEVICE_SHELL pull /data/local/tmp/$ONDEVICE_FOLDER/output output_32b\n",
    "$DEVICE_SHELL pull /data/local/tmp/$ONDEVICE_FOLDER/output_android output_8b"
   ]
  },
  {
   "cell_type": "markdown",
   "id": "f4c7a9cb",
   "metadata": {},
   "source": [
    "# Analyze the results from device execution"
   ]
  },
  {
   "cell_type": "markdown",
   "id": "48d4be9a",
   "metadata": {},
   "source": [
    "## Post-processing "
   ]
  },
  {
   "cell_type": "code",
   "execution_count": null,
   "id": "f78d030b",
   "metadata": {},
   "outputs": [],
   "source": [
    "%%bash\n",
    "mkdir -p Results/fp_32\n",
    "mkdir -p Results/int_8"
   ]
  },
  {
   "cell_type": "code",
   "execution_count": null,
   "id": "b4d7850d",
   "metadata": {},
   "outputs": [],
   "source": [
    "folder = [\"output_8b\",\"output_32b\"]\n",
    "count = 0\n",
    "for output in folder:\n",
    "    raw_img = output+'/Result_0/output.raw'\n",
    "    post_img = post_process_enhanced(raw_img)\n",
    "    post_img = cv2.cvtColor(post_img, cv2.COLOR_BGR2RGB)\n",
    "    if count == 0 :\n",
    "        img_path = 'Results/int_8/int_8_enhanced.jpg'\n",
    "    else:\n",
    "        img_path = 'Results/fp_32/fp_32_enhanced.jpg'\n",
    "    cv2.imwrite(img_path,post_img)\n",
    "    count += 1\n",
    "    "
   ]
  },
  {
   "cell_type": "markdown",
   "id": "279fc057",
   "metadata": {},
   "source": [
    "## visualize the output"
   ]
  },
  {
   "cell_type": "code",
   "execution_count": null,
   "id": "7d2ea672",
   "metadata": {},
   "outputs": [],
   "source": [
    "import matplotlib.pyplot as plt\n",
    "from matplotlib.pyplot import figure, imshow, axis\n",
    "from matplotlib.image import imread\n",
    "import random as rand\n",
    "\n",
    "def showImagesHorizontally(majors):\n",
    "    fig, axs = plt.subplots(1, 3, figsize=(12, 4), constrained_layout=True,\n",
    "                        sharex=True, sharey=True)\n",
    "    for nn, ax in enumerate(axs.flat):\n",
    "        column = majors[nn]\n",
    "        column_rec_name = column.replace('\\n', '_').replace(' ', '_')\n",
    "        image = imread(majors[nn])\n",
    "        ax.imshow(image,cmap='Greys_r',)\n",
    "        ax.set_xlabel(majors[nn].split(\"/\")[-1])\n",
    "    fig.suptitle('Comparison', fontsize=16)\n",
    "    plt.show()\n",
    "\n",
    "org_img = cv2.resize(cv2.imread(\"Original/sample.jpg\"),[320,240],interpolation=cv2.INTER_CUBIC)\n",
    "cv2.imwrite(\"Original/sample.jpg\",org_img)\n",
    "\n",
    "folders = [\"Original/sample.jpg\",\"Results/fp_32/fp_32_enhanced.jpg\",\"Results/int_8/int_8_enhanced.jpg\"]\n",
    "showImagesHorizontally(folders)"
   ]
  }
 ],
 "metadata": {
  "kernelspec": {
   "display_name": "Python 3 (ipykernel)",
   "language": "python",
   "name": "python3"
  },
  "language_info": {
   "codemirror_mode": {
    "name": "ipython",
    "version": 3
   },
   "file_extension": ".py",
   "mimetype": "text/x-python",
   "name": "python",
   "nbconvert_exporter": "python",
   "pygments_lexer": "ipython3",
   "version": "3.10.10"
  }
 },
 "nbformat": 4,
 "nbformat_minor": 5
}
