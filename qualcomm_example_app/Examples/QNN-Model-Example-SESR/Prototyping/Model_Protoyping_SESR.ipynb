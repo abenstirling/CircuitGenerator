{
 "cells": [
  {
   "cell_type": "markdown",
   "id": "29a31c99",
   "metadata": {},
   "source": [
    "# Model Prototyping for SESR (super resolution) model"
   ]
  },
  {
   "cell_type": "code",
   "execution_count": null,
   "id": "b8595daf",
   "metadata": {},
   "outputs": [],
   "source": [
    "%%bash\n",
    "git clone https://github.com/quic/aimet-model-zoo.git\n",
    "cd aimet-model-zoo/\n",
    "git reset --hard b7a21a02f3a33387548f376bdf7831b4cc5cc41b\n",
    "cd ..\n",
    "mkdir -p utils\n",
    "mv aimet-model-zoo/zoo_torch/examples/superres/utils/imresize.py utils/\n",
    "mv aimet-model-zoo/zoo_torch/examples/superres/utils/__init__.py utils/\n",
    "rm -rf aimet-model-zoo"
   ]
  },
  {
   "cell_type": "code",
   "execution_count": null,
   "id": "dce5763a",
   "metadata": {},
   "outputs": [],
   "source": [
    "import cv2\n",
    "from utils.imresize import imresize\n",
    "import glob\n",
    "import os\n",
    "import numpy as np\n",
    "import torch\n",
    "import matplotlib.pyplot as plt\n",
    "RGB_WEIGHTS = torch.FloatTensor([65.481, 128.553, 24.966])"
   ]
  },
  {
   "cell_type": "markdown",
   "id": "43f79cf2",
   "metadata": {},
   "source": [
    "# Download Sample Image"
   ]
  },
  {
   "cell_type": "code",
   "execution_count": null,
   "id": "6002c64f",
   "metadata": {},
   "outputs": [],
   "source": [
    "%%bash\n",
    "mkdir -p Original\n",
    "wget -O Original/sample.jpg https://github.com/quic/qidk/raw/master/VisionSolution2-ImageSuperResolution/superresolution/src/main/assets/Sample1.jpg"
   ]
  },
  {
   "cell_type": "markdown",
   "id": "52341283",
   "metadata": {},
   "source": [
    "## Pre-processing data"
   ]
  },
  {
   "cell_type": "code",
   "execution_count": null,
   "id": "0c33b130",
   "metadata": {},
   "outputs": [],
   "source": [
    "def convert_image(img, source, target):\n",
    "    if source == 'array':\n",
    "        img = torch.from_numpy(img.transpose((2, 0, 1))).contiguous()#chw\n",
    "        img = img.to(dtype=torch.float32).div(255)\n",
    "    elif source == '[0, 1]':\n",
    "        img = torch.clamp(img, 0, 1)  # useful to post-process output of models that can overspill\n",
    "    \n",
    "    if target == '[0, 1]':\n",
    "        pass  # already in [0, 1]\n",
    "    elif target == 'y-channel':\n",
    "        # Based on definitions at https://github.com/xinntao/BasicSR/wiki/Color-conversion-in-SR\n",
    "        # torch.dot() does not work the same way as numpy.dot()\n",
    "        # So, use torch.matmul() to find the dot product between the last dimension of an 4-D tensor and a 1-D tensor\n",
    "        img = torch.matmul(img.permute(0, 2, 3, 1), RGB_WEIGHTS.to(img.device)) + 16.\n",
    "    \n",
    "    return img"
   ]
  },
  {
   "cell_type": "code",
   "execution_count": null,
   "id": "cdabf453",
   "metadata": {},
   "outputs": [],
   "source": [
    "def preprocess(imgfile):\n",
    "        img = cv2.resize(cv2.imread(imgfile),[256,256],interpolation=cv2.INTER_CUBIC)\n",
    "        img = cv2.cvtColor(img, cv2.COLOR_BGR2RGB)\n",
    "        scaling_factor=2\n",
    "        height, width = img.shape[0:2]\n",
    "        #Take the largest possible center-crop of it such that its dimensions are perfectly divisible by the scaling factor\n",
    "        x_remainder = width % (scaling_factor)\n",
    "        y_remainder = height % (scaling_factor)\n",
    "        left = x_remainder // 2\n",
    "        top = y_remainder // 2\n",
    "        right = left + (width - x_remainder)\n",
    "        bottom = top + (height - y_remainder)\n",
    "        hr_img = img[top:bottom, left:right]\n",
    "        hr_height, hr_width = hr_img.shape[0:2]\n",
    "        hr_img = np.array(hr_img, dtype='float32')\n",
    "        lr_img = imresize(hr_img, 1. / scaling_factor)  # equivalent to matlab's imresize\n",
    "        lr_img = np.uint8(np.clip(lr_img, 0., 255.))  # this is to simulate matlab's imwrite operation\n",
    "        img = convert_image(lr_img, source='array', target='[0, 1]')\n",
    "        img_lr = img.cpu().detach().numpy()\n",
    "        img_lr = img_lr.astype(np.float32)\n",
    "        return img_lr"
   ]
  },
  {
   "cell_type": "markdown",
   "id": "36c6f076",
   "metadata": {},
   "source": [
    "## Post-processing data"
   ]
  },
  {
   "cell_type": "code",
   "execution_count": null,
   "id": "d4b560c8",
   "metadata": {},
   "outputs": [],
   "source": [
    "def post_process_sr(img):\n",
    "    img = np.fromfile(img, np.float32)\n",
    "    img = img.reshape((3, 256, 256)).astype(np.float32)\n",
    "    img = np.clip(255. * img, 0., 255.)\n",
    "    img = np.uint8(img)\n",
    "    img = img.transpose(1, 2, 0)#hwc\n",
    "    return img"
   ]
  },
  {
   "cell_type": "markdown",
   "id": "624ace34",
   "metadata": {},
   "source": [
    "## Prepare the data for the model"
   ]
  },
  {
   "cell_type": "code",
   "execution_count": null,
   "id": "7fe871de",
   "metadata": {},
   "outputs": [],
   "source": [
    "%%bash\n",
    "mkdir -p raw"
   ]
  },
  {
   "cell_type": "code",
   "execution_count": null,
   "id": "f71e5581",
   "metadata": {},
   "outputs": [],
   "source": [
    "for image in os.listdir('Original'):\n",
    "    img_path = 'Original/'+image\n",
    "    raw_input = preprocess(img_path)\n",
    "    fid = open(\"raw/\"+str(image[:-4])+ \".raw\", 'wb')\n",
    "    raw_input.tofile(fid)\n",
    "    fid.close()"
   ]
  },
  {
   "cell_type": "code",
   "execution_count": null,
   "id": "1822f7fe",
   "metadata": {},
   "outputs": [],
   "source": [
    "%%bash\n",
    "find . -name *.raw > list.txt"
   ]
  },
  {
   "cell_type": "markdown",
   "id": "6396f32e",
   "metadata": {},
   "source": [
    "# Setting up Artifacts Paths\n",
    "\n",
    "<ul>\n",
    "    <li>Before running below block set 'QNN_SDK_ROOT' to your qnn folder path</li>\n",
    "    <li>Also, set 'DEVICE_ID' to your device-id. Use command \"adb devices\" to get devices names.</li>\n",
    "    </ul>"
   ]
  },
  {
   "cell_type": "code",
   "execution_count": null,
   "id": "00761594",
   "metadata": {},
   "outputs": [],
   "source": [
    "## Give appropriate permission to the directory \"FOLDER_WITH_ARTIFACTS\" you are working with\n",
    "\n",
    "os.environ['QNN_SDK_ROOT']=\"/local/mnt/workspace/sdks/qnn/qnn-v2.9.0.230327191003_53330\"#set up your snpe path here.\n",
    "os.environ['RAW_FILE_FOLDER']=\"raw\"\n",
    "os.environ['FOLDER_WITH_ARTIFACTS']=\"SESR\"\n",
    "os.environ['FP32']=\"../model_libs/FP_32/aarch64-android/libsuper_resolution.so\"\n",
    "os.environ['INT8']=\"../model_libs/INT_8/aarch64-android/libsuper_resolution_quantized.so\"\n",
    "os.environ['TARGET_INPUT_LIST']=\"list.txt\"\n",
    "os.environ['ONDEVICE_FOLDER']=\"SESR_comparision\"\n",
    "os.environ['DEVICE_HOST']=\"localhost\"\n",
    "os.environ['DEVICE_ID']=\"1c7dec76\" #fill your device-id. Use command \"adb devices\" to get devices names. example :\"e18d5d0\"\n",
    "os.environ['QNN_TARGET_ARCH']=\"aarch64-android\"\n",
    "os.environ['QNN_TARGET_CPU']=\"libQnnCpu.so\"\n",
    "os.environ['QNN_TARGET_HTP']=\"libQnnHtp.so\""
   ]
  },
  {
   "cell_type": "markdown",
   "id": "3e1f488e",
   "metadata": {},
   "source": [
    "# Creating ON_Device Folder "
   ]
  },
  {
   "cell_type": "code",
   "execution_count": null,
   "id": "0aabb628",
   "metadata": {},
   "outputs": [],
   "source": [
    "%%bash\n",
    "export DEVICE_SHELL=\"adb -H $DEVICE_HOST -s $DEVICE_ID\"\n",
    "$DEVICE_SHELL shell \"mkdir -p /data/local/tmp/$ONDEVICE_FOLDER\""
   ]
  },
  {
   "cell_type": "markdown",
   "id": "14de5bc9",
   "metadata": {},
   "source": [
    "# Pushing Backends and Libraries "
   ]
  },
  {
   "cell_type": "code",
   "execution_count": null,
   "id": "185bfd4f",
   "metadata": {},
   "outputs": [],
   "source": [
    "%%bash\n",
    "export DEVICE_SHELL=\"adb -H $DEVICE_HOST -s $DEVICE_ID\"\n",
    "$DEVICE_SHELL push ${QNN_SDK_ROOT}/target/$QNN_TARGET_ARCH/lib/$QNN_TARGET_CPU /data/local/tmp/$ONDEVICE_FOLDER\n",
    "$DEVICE_SHELL push ${QNN_SDK_ROOT}/target/$QNN_TARGET_ARCH/lib/$QNN_TARGET_HTP /data/local/tmp/$ONDEVICE_FOLDER\n",
    "$DEVICE_SHELL push ${QNN_SDK_ROOT}/target/hexagon-v73/lib/unsigned/*.so /data/local/tmp/$ONDEVICE_FOLDER\n",
    "$DEVICE_SHELL push ${QNN_SDK_ROOT}/target/$QNN_TARGET_ARCH/lib/*.so /data/local/tmp/$ONDEVICE_FOLDER\n",
    "$DEVICE_SHELL push $FP32 /data/local/tmp/$ONDEVICE_FOLDER\n",
    "$DEVICE_SHELL push $INT8 /data/local/tmp/$ONDEVICE_FOLDER\n",
    "$DEVICE_SHELL push ${QNN_SDK_ROOT}/target/$QNN_TARGET_ARCH/bin/ /data/local/tmp/$ONDEVICE_FOLDER"
   ]
  },
  {
   "cell_type": "markdown",
   "id": "ce03ab38",
   "metadata": {},
   "source": [
    "# Pushing Input list and data to the device"
   ]
  },
  {
   "cell_type": "code",
   "execution_count": null,
   "id": "2e2f42fb",
   "metadata": {},
   "outputs": [],
   "source": [
    "%%bash\n",
    "export DEVICE_SHELL=\"adb -H $DEVICE_HOST -s $DEVICE_ID\"\n",
    "$DEVICE_SHELL push raw /data/local/tmp/$ONDEVICE_FOLDER\n",
    "$DEVICE_SHELL push $TARGET_INPUT_LIST /data/local/tmp/$ONDEVICE_FOLDER\n",
    "$DEVICE_SHELL push ../output/lib_graph_prepare_from_int8_x86.serialized.bin /data/local/tmp/$ONDEVICE_FOLDER"
   ]
  },
  {
   "cell_type": "markdown",
   "id": "e3f6e85d",
   "metadata": {},
   "source": [
    "# Push the qnn-net-run tool:"
   ]
  },
  {
   "cell_type": "code",
   "execution_count": null,
   "id": "91feecd3",
   "metadata": {},
   "outputs": [],
   "source": [
    "%%bash\n",
    "export DEVICE_SHELL=\"adb -H $DEVICE_HOST -s $DEVICE_ID\"\n",
    "$DEVICE_SHELL push ${QNN_SDK_ROOT}/target/$QNN_TARGET_ARCH/bin/qnn-net-run /data/local/tmp/$ONDEVICE_FOLDER"
   ]
  },
  {
   "cell_type": "markdown",
   "id": "8dac5b83",
   "metadata": {},
   "source": [
    "# Now set up the environment on device:"
   ]
  },
  {
   "cell_type": "markdown",
   "id": "ac85e8f0",
   "metadata": {},
   "source": [
    "## qnn-net-run : CPU backend"
   ]
  },
  {
   "cell_type": "code",
   "execution_count": null,
   "id": "ed6493de",
   "metadata": {},
   "outputs": [],
   "source": [
    "%%bash\n",
    "export DEVICE_SHELL=\"adb -H $DEVICE_HOST -s $DEVICE_ID\"\n",
    "$DEVICE_SHELL shell \"export LD_LIBRARY_PATH=/data/local/tmp/$ONDEVICE_FOLDER && \\ \n",
    "                     cd /data/local/tmp/$ONDEVICE_FOLDER && \\\n",
    "                     ./qnn-net-run --backend libQnnCpu.so --model libsuper_resolution.so --input_list list.txt\""
   ]
  },
  {
   "cell_type": "markdown",
   "id": "625e2358",
   "metadata": {},
   "source": [
    "## qnn-net-run : HTP backend"
   ]
  },
  {
   "cell_type": "code",
   "execution_count": null,
   "id": "c5483be9",
   "metadata": {},
   "outputs": [],
   "source": [
    "%%bash\n",
    "export DEVICE_SHELL=\"adb -H $DEVICE_HOST -s $DEVICE_ID\"\n",
    "$DEVICE_SHELL shell \"export LD_LIBRARY_PATH=/data/local/tmp/$ONDEVICE_FOLDER && \\\n",
    "                     export ADSP_LIBRARY_PATH='/data/local/tmp/$ONDEVICE_FOLDER' && \\\n",
    "                     cd /data/local/tmp/$ONDEVICE_FOLDER && \\\n",
    "                     ./qnn-net-run --backend libQnnHtp.so --input_list list.txt --retrieve_context lib_graph_prepare_from_int8_x86.serialized.bin --output_dir output_android\""
   ]
  },
  {
   "cell_type": "markdown",
   "id": "32c9786e",
   "metadata": {},
   "source": [
    "# Pull the results"
   ]
  },
  {
   "cell_type": "code",
   "execution_count": null,
   "id": "ff09ffef",
   "metadata": {},
   "outputs": [],
   "source": [
    "%%bash\n",
    "export DEVICE_SHELL=\"adb -H $DEVICE_HOST -s $DEVICE_ID\"\n",
    "$DEVICE_SHELL pull /data/local/tmp/$ONDEVICE_FOLDER/output output_32b\n",
    "$DEVICE_SHELL pull /data/local/tmp/$ONDEVICE_FOLDER/output_android output_8b"
   ]
  },
  {
   "cell_type": "markdown",
   "id": "3443bd04",
   "metadata": {},
   "source": [
    "# Analyze the results from device execution"
   ]
  },
  {
   "cell_type": "markdown",
   "id": "9807435f",
   "metadata": {},
   "source": [
    "## Post-processing "
   ]
  },
  {
   "cell_type": "code",
   "execution_count": null,
   "id": "904de1e0",
   "metadata": {},
   "outputs": [],
   "source": [
    "%%bash\n",
    "mkdir -p Results/fp_32\n",
    "mkdir -p Results/int_8"
   ]
  },
  {
   "cell_type": "code",
   "execution_count": null,
   "id": "09b56184",
   "metadata": {},
   "outputs": [],
   "source": [
    "folder = [\"output_8b\",\"output_32b\"]\n",
    "count = 0\n",
    "for output in folder:\n",
    "    raw_img = output+'/Result_0/sr.raw'\n",
    "    post_img = post_process_sr(raw_img)\n",
    "    post_img = cv2.cvtColor(post_img, cv2.COLOR_BGR2RGB)\n",
    "    if count == 0 :\n",
    "        img_path = 'Results/int_8/int_8_enhanced.jpg'\n",
    "    else:\n",
    "        img_path = 'Results/fp_32/fp_32_enhanced.jpg'\n",
    "    cv2.imwrite(img_path,post_img)\n",
    "    count += 1"
   ]
  },
  {
   "cell_type": "markdown",
   "id": "2c0a2707",
   "metadata": {},
   "source": [
    "## Show the output shapes of input\n",
    "    * The input passed to the model is of shape 128 x 128 x 3 "
   ]
  },
  {
   "cell_type": "code",
   "execution_count": null,
   "id": "da9b61e2",
   "metadata": {
    "scrolled": true
   },
   "outputs": [],
   "source": [
    "print(\"Shapes of output : \")\n",
    "org_img = 'Original/sample.jpg'\n",
    "fp_32_img = 'Results/fp_32/fp_32_enhanced.jpg'\n",
    "int_8_img = 'Results/int_8/int_8_enhanced.jpg'\n",
    "img_org = cv2.imread(org_img)\n",
    "img_fp32 = cv2.imread(fp_32_img)\n",
    "img_int8 = cv2.imread(int_8_img)"
   ]
  },
  {
   "cell_type": "code",
   "execution_count": null,
   "id": "05eac119",
   "metadata": {},
   "outputs": [],
   "source": [
    "def display_image_in_actual_size(im_path):\n",
    "\n",
    "    dpi = 80\n",
    "    im_data = plt.imread(im_path)\n",
    "    height, width, depth = im_data.shape\n",
    "\n",
    "    # What size does the figure need to be in inches to fit the image?\n",
    "    figsize = width / float(dpi), height / float(dpi)\n",
    "\n",
    "    # Create a figure of the right size with one axes that takes up the full figure\n",
    "    fig = plt.figure(figsize=figsize)\n",
    "    ax = fig.add_axes([0, 0, 1, 1])\n",
    "\n",
    "    # Hide spines, ticks, etc.\n",
    "    ax.axis('off')\n",
    "\n",
    "    # Display the image.\n",
    "    ax.imshow(im_data, cmap='gray')\n",
    "\n",
    "    plt.show()\n",
    "\n",
    "print(\" Original Image Input : \",img_org.shape)\n",
    "display_image_in_actual_size(\"Original/sample.jpg\")\n",
    "print(\" CPU Backend Output : \",img_fp32.shape)\n",
    "display_image_in_actual_size(\"Results/fp_32/fp_32_enhanced.jpg\")\n",
    "print(\" HTP Backend Output : \",img_int8.shape)\n",
    "display_image_in_actual_size(\"Results/int_8/int_8_enhanced.jpg\")"
   ]
  }
 ],
 "metadata": {
  "kernelspec": {
   "display_name": "Python 3 (ipykernel)",
   "language": "python",
   "name": "python3"
  },
  "language_info": {
   "codemirror_mode": {
    "name": "ipython",
    "version": 3
   },
   "file_extension": ".py",
   "mimetype": "text/x-python",
   "name": "python",
   "nbconvert_exporter": "python",
   "pygments_lexer": "ipython3",
   "version": "3.10.10"
  }
 },
 "nbformat": 4,
 "nbformat_minor": 5
}
